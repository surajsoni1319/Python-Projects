{
 "cells": [
  {
   "cell_type": "code",
   "execution_count": 1,
   "id": "5057af84",
   "metadata": {},
   "outputs": [
    {
     "name": "stdout",
     "output_type": "stream",
     "text": [
      "Requirement already satisfied: pillow in c:\\users\\suraj soni\\anaconda3\\lib\\site-packages (9.4.0)\n"
     ]
    }
   ],
   "source": [
    "!pip install pillow"
   ]
  },
  {
   "cell_type": "code",
   "execution_count": null,
   "id": "e06479af",
   "metadata": {},
   "outputs": [],
   "source": [
    "import os\n",
    "from PIL import Image\n",
    "\n",
    "# Ask user to type input and output folder paths\n",
    "source_folder = input(r\"Enter the full path to the folder with original images:\")\n",
    "output_folder = input(r\"Enter the full path where compressed images should be saved:\")\n",
    "\n",
    "# Create output folder if it doesn't exist\n",
    "os.makedirs(output_folder, exist_ok=True)\n",
    "\n",
    "# Supported image types\n",
    "image_extensions = ('.jpg', '.jpeg', '.png')\n",
    "\n",
    "print(\"\\nCompressing images...\\n\")\n",
    "\n",
    "# Loop and compress\n",
    "for filename in os.listdir(source_folder):\n",
    "    if filename.lower().endswith(image_extensions):\n",
    "        input_path = os.path.join(source_folder, filename)\n",
    "        output_path = os.path.join(output_folder, filename)\n",
    "\n",
    "        try:\n",
    "            with Image.open(input_path) as img:\n",
    "                if img.mode in (\"RGBA\", \"P\"):\n",
    "                    img = img.convert(\"RGB\")\n",
    "\n",
    "                img.save(output_path, \"JPEG\", quality=60, optimize=True)\n",
    "                print(f\"Compressed: {filename}\")\n",
    "        except Exception as e:\n",
    "            print(f\"Error with {filename}: {e}\")\n",
    "\n",
    "print(\"\\n All images compressed successfully.\")\n"
   ]
  },
  {
   "cell_type": "code",
   "execution_count": null,
   "id": "38f099f8",
   "metadata": {},
   "outputs": [],
   "source": []
  }
 ],
 "metadata": {
  "kernelspec": {
   "display_name": "Python 3 (ipykernel)",
   "language": "python",
   "name": "python3"
  },
  "language_info": {
   "codemirror_mode": {
    "name": "ipython",
    "version": 3
   },
   "file_extension": ".py",
   "mimetype": "text/x-python",
   "name": "python",
   "nbconvert_exporter": "python",
   "pygments_lexer": "ipython3",
   "version": "3.11.5"
  }
 },
 "nbformat": 4,
 "nbformat_minor": 5
}
